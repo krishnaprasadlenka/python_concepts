{
  "nbformat": 4,
  "nbformat_minor": 0,
  "metadata": {
    "colab": {
      "provenance": [],
      "authorship_tag": "ABX9TyMEeUOZrQq6TijZ/3/SPuYt",
      "include_colab_link": true
    },
    "kernelspec": {
      "name": "python3",
      "display_name": "Python 3"
    },
    "language_info": {
      "name": "python"
    }
  },
  "cells": [
    {
      "cell_type": "markdown",
      "metadata": {
        "id": "view-in-github",
        "colab_type": "text"
      },
      "source": [
        "<a href=\"https://colab.research.google.com/github/krishnaprasadlenka/python_concepts/blob/main/lists.ipynb\" target=\"_parent\"><img src=\"https://colab.research.google.com/assets/colab-badge.svg\" alt=\"Open In Colab\"/></a>"
      ]
    },
    {
      "cell_type": "markdown",
      "source": [
        "creating list"
      ],
      "metadata": {
        "id": "OTjuZYJs4fhC"
      }
    },
    {
      "cell_type": "code",
      "source": [
        "# Creating a Python list with different data types\n",
        "a = [10, 20, \"GfG\", 40, True]\n",
        "\n",
        "print(a)\n",
        "\n",
        "# Accessing elements using indexing\n",
        "print(a[0])  # 10\n",
        "print(a[1])  # 20\n",
        "print(a[2])  # \"GfG\"\n",
        "print(a[3])  # 40\n",
        "print(a[4])  # True\n",
        "\n",
        "# Checking types of elements\n",
        "print(type(a[2]))  # str\n",
        "print(type(a[4]))  # bool"
      ],
      "metadata": {
        "colab": {
          "base_uri": "https://localhost:8080/"
        },
        "id": "qPcp5UF64oX4",
        "outputId": "6f1b827a-e20e-4603-93e4-9a07d9d16246"
      },
      "execution_count": null,
      "outputs": [
        {
          "output_type": "stream",
          "name": "stdout",
          "text": [
            "[10, 20, 'GfG', 40, True]\n",
            "10\n",
            "20\n",
            "GfG\n",
            "40\n",
            "True\n",
            "<class 'str'>\n",
            "<class 'bool'>\n"
          ]
        }
      ]
    },
    {
      "cell_type": "markdown",
      "source": [
        "Adding Elements into List\n",
        "We can add elements to a list using the following methods:\n",
        "\n",
        "append(): Adds an element at the end of the list.\n",
        "extend(): Adds multiple elements to the end of the list.\n",
        "insert(): Adds an element at a specific position."
      ],
      "metadata": {
        "id": "HWNRtHzR40yT"
      }
    },
    {
      "cell_type": "code",
      "source": [
        "# Initialize an empty list\n",
        "a = []\n",
        "\n",
        "# Adding 10 to end of list\n",
        "a.append(10)\n",
        "print(\"After append(10):\", a)\n",
        "\n",
        "# Inserting 5 at index 0\n",
        "a.insert(0, 5)\n",
        "print(\"After insert(0, 5):\", a)\n",
        "\n",
        "# Adding multiple elements  [15, 20, 25] at the end\n",
        "a.extend([15, 20, 25])\n",
        "print(\"After extend([15, 20, 25]):\", a)"
      ],
      "metadata": {
        "colab": {
          "base_uri": "https://localhost:8080/"
        },
        "id": "3Sdg1hBP42Wa",
        "outputId": "07f52923-7569-4cd7-a483-bc3b76d19b6b"
      },
      "execution_count": null,
      "outputs": [
        {
          "output_type": "stream",
          "name": "stdout",
          "text": [
            "After append(10): [10]\n",
            "After insert(0, 5): [5, 10]\n",
            "After extend([15, 20, 25]): [5, 10, 15, 20, 25]\n"
          ]
        }
      ]
    },
    {
      "cell_type": "markdown",
      "source": [
        "Updating Elements into List"
      ],
      "metadata": {
        "id": "jsQUTVpa4_sx"
      }
    },
    {
      "cell_type": "code",
      "source": [
        "a = [10, 20, 30, 40, 50]\n",
        "\n",
        "# Change the second element\n",
        "a[1] = 25\n",
        "\n",
        "print(a)"
      ],
      "metadata": {
        "colab": {
          "base_uri": "https://localhost:8080/"
        },
        "id": "PTv0QBgU5iVF",
        "outputId": "6b06806d-72e0-4610-a60b-033626822eed"
      },
      "execution_count": null,
      "outputs": [
        {
          "output_type": "stream",
          "name": "stdout",
          "text": [
            "[10, 25, 30, 40, 50]\n"
          ]
        }
      ]
    },
    {
      "cell_type": "markdown",
      "source": [
        "Removing Elements from List\n",
        "We can remove elements from a list using:\n",
        "\n",
        "remove(): Removes the first occurrence of an element.\n",
        "pop(): Removes the element at a specific index or the last element if no index is specified.\n",
        "del statement: Deletes an element at a specified index."
      ],
      "metadata": {
        "id": "wACMcYE05nd3"
      }
    },
    {
      "cell_type": "code",
      "source": [
        "a = [10, 20, 30, 40, 50]\n",
        "\n",
        "# Removes the first occurrence of 30\n",
        "a.remove(30)\n",
        "print(\"After remove(30):\", a)\n",
        "\n",
        "# Removes the element at index 1 (20)\n",
        "popped_val = a.pop(1)\n",
        "print(\"Popped element:\", popped_val)\n",
        "print(\"After pop(1):\", a)\n",
        "\n",
        "# Deletes the first element (10)\n",
        "del a[0]\n",
        "print(\"After del a[0]:\", a)"
      ],
      "metadata": {
        "colab": {
          "base_uri": "https://localhost:8080/"
        },
        "id": "u0iLBtrG5xGh",
        "outputId": "5affef19-7afa-415a-80ab-3fc235b6a40e"
      },
      "execution_count": null,
      "outputs": [
        {
          "output_type": "stream",
          "name": "stdout",
          "text": [
            "After remove(30): [10, 20, 40, 50]\n",
            "Popped element: 20\n",
            "After pop(1): [10, 40, 50]\n",
            "After del a[0]: [40, 50]\n"
          ]
        }
      ]
    },
    {
      "cell_type": "markdown",
      "source": [],
      "metadata": {
        "id": "PDPELNRX58ka"
      }
    },
    {
      "cell_type": "markdown",
      "source": [
        "reverse()"
      ],
      "metadata": {
        "id": "Ux4WmMnL6u8J"
      }
    },
    {
      "cell_type": "code",
      "source": [
        "my_list = [10, 20, 30, 40]\n",
        "my_list.reverse()\n",
        "print(my_list)  # Output: [40, 30, 20, 10]"
      ],
      "metadata": {
        "colab": {
          "base_uri": "https://localhost:8080/"
        },
        "id": "qFeL065n6w9y",
        "outputId": "f565f51c-8f40-416a-d2b2-4c0773ed8515"
      },
      "execution_count": null,
      "outputs": [
        {
          "output_type": "stream",
          "name": "stdout",
          "text": [
            "[40, 30, 20, 10]\n"
          ]
        }
      ]
    },
    {
      "cell_type": "markdown",
      "source": [
        "count()"
      ],
      "metadata": {
        "id": "IYz_FZUw6_-9"
      }
    },
    {
      "cell_type": "code",
      "source": [
        "a = [1, 3, 2, 6, 3, 2, 8, 2, 9, 2, 7, 3]\n",
        "\n",
        "# Count occurrences of 2\n",
        "print(a.count(2))\n",
        "\n",
        "# Count occurrences of 3\n",
        "print(a.count(3))"
      ],
      "metadata": {
        "colab": {
          "base_uri": "https://localhost:8080/"
        },
        "id": "ey2oybr_7CO9",
        "outputId": "0df9031b-2ca1-47e4-f8d4-b32037d190ed"
      },
      "execution_count": null,
      "outputs": [
        {
          "output_type": "stream",
          "name": "stdout",
          "text": [
            "4\n",
            "3\n"
          ]
        }
      ]
    },
    {
      "cell_type": "code",
      "source": [
        "#SLICING IN LIST\n",
        "#list_name[starting_index:ending_index]\n",
        "marks=[45,46,47,48,49]\n",
        "print(marks[0:3])"
      ],
      "metadata": {
        "colab": {
          "base_uri": "https://localhost:8080/"
        },
        "id": "HCe51mzFlZYa",
        "outputId": "9dccc756-8329-40ed-c5b6-66048525e410"
      },
      "execution_count": 1,
      "outputs": [
        {
          "output_type": "stream",
          "name": "stdout",
          "text": [
            "[45, 46, 47]\n"
          ]
        }
      ]
    },
    {
      "cell_type": "markdown",
      "source": [
        "ALL LIST METHODS"
      ],
      "metadata": {
        "id": "24S6fRkEmQVJ"
      }
    },
    {
      "cell_type": "code",
      "source": [
        "#list=[2,1,3]\n",
        "#list.append(4):-adds one element at the end\n",
        "#list.sort():-sorts in ascending order\n",
        "#list.sort(reverse=True):-sorts in descending order\n",
        "#list.reverse():-reverse list\n",
        "#list.insert(idx,el):-insert element at index\n",
        "#list.remove(1):-removes first occurence of element\n",
        "#list.pop(idx)#removes element at idx\n",
        "\n",
        "\n",
        "list=[2,5,1,3,6]\n",
        "list.append(4)\n",
        "print(list)\n",
        "list.sort()\n",
        "print(list)\n",
        "list.sort(reverse=True)\n",
        "print(list)\n",
        "list.reverse()\n",
        "print(list)\n",
        "list.insert(2,9)\n",
        "print(list)\n",
        "list.remove(1)\n",
        "print(list)\n",
        "list.pop(1)\n",
        "print(list)"
      ],
      "metadata": {
        "colab": {
          "base_uri": "https://localhost:8080/"
        },
        "id": "IRB_13I0mPfX",
        "outputId": "767e1b2e-7f09-41a2-80ae-9bed08d53dc9"
      },
      "execution_count": 4,
      "outputs": [
        {
          "output_type": "stream",
          "name": "stdout",
          "text": [
            "[2, 5, 1, 3, 6, 4]\n",
            "[1, 2, 3, 4, 5, 6]\n",
            "[6, 5, 4, 3, 2, 1]\n",
            "[1, 2, 3, 4, 5, 6]\n",
            "[1, 2, 9, 3, 4, 5, 6]\n",
            "[2, 9, 3, 4, 5, 6]\n",
            "[2, 3, 4, 5, 6]\n"
          ]
        }
      ]
    }
  ]
}