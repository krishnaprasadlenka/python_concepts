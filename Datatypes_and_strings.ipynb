{
  "nbformat": 4,
  "nbformat_minor": 0,
  "metadata": {
    "colab": {
      "provenance": [],
      "authorship_tag": "ABX9TyPoxPyso2mwtApb6DNU6Dcj",
      "include_colab_link": true
    },
    "kernelspec": {
      "name": "python3",
      "display_name": "Python 3"
    },
    "language_info": {
      "name": "python"
    }
  },
  "cells": [
    {
      "cell_type": "markdown",
      "metadata": {
        "id": "view-in-github",
        "colab_type": "text"
      },
      "source": [
        "<a href=\"https://colab.research.google.com/github/krishnaprasadlenka/python_concepts/blob/main/Datatypes_and_strings.ipynb\" target=\"_parent\"><img src=\"https://colab.research.google.com/assets/colab-badge.svg\" alt=\"Open In Colab\"/></a>"
      ]
    },
    {
      "cell_type": "code",
      "execution_count": null,
      "metadata": {
        "id": "2-bsMrH50QEZ"
      },
      "outputs": [],
      "source": []
    },
    {
      "cell_type": "markdown",
      "source": [
        "all the data types in python"
      ],
      "metadata": {
        "id": "ry6LIXQD01xN"
      }
    },
    {
      "cell_type": "code",
      "source": [
        "data_types = [\n",
        "    10,             # Integer\n",
        "    3.14,           # Float\n",
        "    True,           # Boolean\n",
        "    \"Hello\",        # String\n",
        "    [1, 2, 3],      # List\n",
        "    (4, 5, 6),      # Tuple\n",
        "    {7, 8, 9},      # Set\n",
        "    {\"a\": 1, \"b\": 2}, # Dictionary\n",
        "    None            # NoneType\n",
        "]\n",
        "\n",
        "for item in data_types:\n",
        "    print(f\"Value: {item}, Type: {type(item)}\")"
      ],
      "metadata": {
        "colab": {
          "base_uri": "https://localhost:8080/"
        },
        "id": "3KgagpLj0vTc",
        "outputId": "fef0d49c-16fd-4084-cff0-e4fd64694cff"
      },
      "execution_count": 1,
      "outputs": [
        {
          "output_type": "stream",
          "name": "stdout",
          "text": [
            "Value: 10, Type: <class 'int'>\n",
            "Value: 3.14, Type: <class 'float'>\n",
            "Value: True, Type: <class 'bool'>\n",
            "Value: Hello, Type: <class 'str'>\n",
            "Value: [1, 2, 3], Type: <class 'list'>\n",
            "Value: (4, 5, 6), Type: <class 'tuple'>\n",
            "Value: {8, 9, 7}, Type: <class 'set'>\n",
            "Value: {'a': 1, 'b': 2}, Type: <class 'dict'>\n",
            "Value: None, Type: <class 'NoneType'>\n"
          ]
        }
      ]
    },
    {
      "cell_type": "code",
      "source": [
        "a = 5\n",
        "print(type(a))\n",
        "\n",
        "b = 5.0\n",
        "print(type(b))\n",
        "\n",
        "c = 2 + 4j\n",
        "print(type(c))"
      ],
      "metadata": {
        "colab": {
          "base_uri": "https://localhost:8080/"
        },
        "id": "zY68s7ha05kn",
        "outputId": "4078599b-85c7-4112-b125-c0490bf4201d"
      },
      "execution_count": 2,
      "outputs": [
        {
          "output_type": "stream",
          "name": "stdout",
          "text": [
            "<class 'int'>\n",
            "<class 'float'>\n",
            "<class 'complex'>\n"
          ]
        }
      ]
    },
    {
      "cell_type": "markdown",
      "source": [
        "strings"
      ],
      "metadata": {
        "id": "QroBtjMo1uTk"
      }
    },
    {
      "cell_type": "code",
      "source": [
        "#creating the strings\n",
        "str1=\"this is a string \"\n",
        "str2='this is another string'\n",
        "str3=\"\"\"this is third string\"\"\"\n",
        "print(\"str1:-\",str1)\n",
        "print(\"str2:-\",str2)\n",
        "print(\"str3:-\",str3)"
      ],
      "metadata": {
        "colab": {
          "base_uri": "https://localhost:8080/"
        },
        "id": "nFGilywX1vvR",
        "outputId": "6bd08867-279b-4261-a721-b3d056c8bdd9"
      },
      "execution_count": 8,
      "outputs": [
        {
          "output_type": "stream",
          "name": "stdout",
          "text": [
            "str1:- this is a string \n",
            "str2:- this is another string\n",
            "str3:- this is third string\n"
          ]
        }
      ]
    },
    {
      "cell_type": "markdown",
      "source": [
        "\n",
        "string operations\n"
      ],
      "metadata": {
        "id": "QPWq_xjn24T4"
      }
    },
    {
      "cell_type": "code",
      "source": [
        "#concatenation\n",
        "str1=\"hello\"\n",
        "str2=\"world\"\n",
        "str3=str1+str2\n",
        "print(str3)"
      ],
      "metadata": {
        "colab": {
          "base_uri": "https://localhost:8080/"
        },
        "id": "nnjwhQ4t29jG",
        "outputId": "cc3b1884-1350-4b4f-9569-d4fc8b7d0914"
      },
      "execution_count": 9,
      "outputs": [
        {
          "output_type": "stream",
          "name": "stdout",
          "text": [
            "helloworld\n"
          ]
        }
      ]
    },
    {
      "cell_type": "code",
      "source": [
        "#length of string\n",
        "str1=\"hello\"\n",
        "print(len(str1))"
      ],
      "metadata": {
        "colab": {
          "base_uri": "https://localhost:8080/"
        },
        "id": "n-JLRz9a3KkZ",
        "outputId": "d516833a-9cbc-4962-c93a-dcf2fffe25ce"
      },
      "execution_count": 10,
      "outputs": [
        {
          "output_type": "stream",
          "name": "stdout",
          "text": [
            "5\n"
          ]
        }
      ]
    },
    {
      "cell_type": "code",
      "source": [
        "#indexing (position of element)\n",
        "str1=\"krishna\"\n",
        "str2=\"prasad\"\n",
        "print(str1[0])\n",
        "print(str2[3])"
      ],
      "metadata": {
        "colab": {
          "base_uri": "https://localhost:8080/"
        },
        "id": "KelujypV3bO9",
        "outputId": "22ff8c60-82ed-49f7-84e1-2d976c52ae6e"
      },
      "execution_count": 12,
      "outputs": [
        {
          "output_type": "stream",
          "name": "stdout",
          "text": [
            "k\n",
            "s\n"
          ]
        }
      ]
    },
    {
      "cell_type": "markdown",
      "source": [
        "Slicing :- accessing parts of a string\n",
        "str[starting_index:Ending_index]"
      ],
      "metadata": {
        "id": "QUWI-OV27Bpc"
      }
    },
    {
      "cell_type": "code",
      "source": [
        "#here element at ending index is not included\n",
        "str=\"KrishnaPrasadLenka\"\n",
        "print(str[2:7])"
      ],
      "metadata": {
        "colab": {
          "base_uri": "https://localhost:8080/"
        },
        "id": "HjLS35wp7DyR",
        "outputId": "40a9f479-3718-41ef-a0ce-29739c96fff5"
      },
      "execution_count": 13,
      "outputs": [
        {
          "output_type": "stream",
          "name": "stdout",
          "text": [
            "ishna\n"
          ]
        }
      ]
    },
    {
      "cell_type": "code",
      "source": [
        "#slicing with negative index (it always starts from -1)\n",
        "str = \"KrishnaPrasad Lenka\"\n",
        "print(str[-5:-1])"
      ],
      "metadata": {
        "colab": {
          "base_uri": "https://localhost:8080/"
        },
        "id": "jKBy9xH67zAx",
        "outputId": "912ddbf2-1e4d-49fc-f026-0c61a487ad7e"
      },
      "execution_count": 19,
      "outputs": [
        {
          "output_type": "stream",
          "name": "stdout",
          "text": [
            "Lenk\n"
          ]
        }
      ]
    },
    {
      "cell_type": "markdown",
      "source": [
        "String functions\n"
      ],
      "metadata": {
        "id": "qFGgVAD0DCJw"
      }
    },
    {
      "cell_type": "code",
      "source": [
        "str=\"krishna prasad lenka\"\n",
        "print(str.endswith(\"ka\"))\n",
        "print(str.startswith(\"krishna\"))\n",
        "print(str.capitalize())\n",
        "print(str.replace(\"krishna prasad lenka\",\"sibu lenka\"))\n",
        "print(str.count(\"a\"))\n",
        "print(str.find(\"prasad\"))\n",
        "print(str.upper())\n",
        "print(str.lower())\n",
        "print(str.title())"
      ],
      "metadata": {
        "colab": {
          "base_uri": "https://localhost:8080/"
        },
        "id": "s3eHWI8GDKgU",
        "outputId": "ef1f2efa-ea93-4ce2-db61-0b1207e24645"
      },
      "execution_count": 23,
      "outputs": [
        {
          "output_type": "stream",
          "name": "stdout",
          "text": [
            "True\n",
            "True\n",
            "Krishna prasad lenka\n",
            "sibu lenka\n",
            "4\n",
            "8\n",
            "KRISHNA PRASAD LENKA\n",
            "krishna prasad lenka\n",
            "Krishna Prasad Lenka\n"
          ]
        }
      ]
    }
  ]
}