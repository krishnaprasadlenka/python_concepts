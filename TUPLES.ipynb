{
  "nbformat": 4,
  "nbformat_minor": 0,
  "metadata": {
    "colab": {
      "provenance": [],
      "authorship_tag": "ABX9TyOdS2D3njHF5J91nOtm0Z24",
      "include_colab_link": true
    },
    "kernelspec": {
      "name": "python3",
      "display_name": "Python 3"
    },
    "language_info": {
      "name": "python"
    }
  },
  "cells": [
    {
      "cell_type": "markdown",
      "metadata": {
        "id": "view-in-github",
        "colab_type": "text"
      },
      "source": [
        "<a href=\"https://colab.research.google.com/github/krishnaprasadlenka/python_concepts/blob/main/TUPLES.ipynb\" target=\"_parent\"><img src=\"https://colab.research.google.com/assets/colab-badge.svg\" alt=\"Open In Colab\"/></a>"
      ]
    },
    {
      "cell_type": "markdown",
      "source": [
        "**TUPLES IN PYTHON**:-\n",
        "A BUILT-IN DATA TYPE THAT LETS US CREATE IMMUTABLE SEQUENCES OF VALUES"
      ],
      "metadata": {
        "id": "Hwf5ys1jsQI0"
      }
    },
    {
      "cell_type": "code",
      "source": [
        "tup=(1,2,3,4,5)\n",
        "print(type(tup))#type"
      ],
      "metadata": {
        "colab": {
          "base_uri": "https://localhost:8080/"
        },
        "id": "otgvnEG_skz0",
        "outputId": "c2229525-2630-4ddd-d368-aa834047f306"
      },
      "execution_count": 3,
      "outputs": [
        {
          "output_type": "stream",
          "name": "stdout",
          "text": [
            "<class 'tuple'>\n"
          ]
        }
      ]
    },
    {
      "cell_type": "code",
      "source": [
        "tup=(2,3,4)\n",
        "print(tup[0])#here we have to know that assigning values in tuple is not allowed as it is immutable"
      ],
      "metadata": {
        "colab": {
          "base_uri": "https://localhost:8080/"
        },
        "id": "Smf7PLydtpy1",
        "outputId": "ca9f66d7-6241-4efe-8980-3b6b2ce44211"
      },
      "execution_count": 4,
      "outputs": [
        {
          "output_type": "stream",
          "name": "stdout",
          "text": [
            "2\n"
          ]
        }
      ]
    },
    {
      "cell_type": "code",
      "source": [
        "tup=(2,5,6)\n",
        "print(tup[1:3])"
      ],
      "metadata": {
        "colab": {
          "base_uri": "https://localhost:8080/"
        },
        "id": "8t3o5SO3t-VB",
        "outputId": "b23f80d1-417f-42ba-88e3-774d65121c58"
      },
      "execution_count": 5,
      "outputs": [
        {
          "output_type": "stream",
          "name": "stdout",
          "text": [
            "(5, 6)\n"
          ]
        }
      ]
    },
    {
      "cell_type": "markdown",
      "source": [
        "tuple methods\n"
      ],
      "metadata": {
        "id": "Pc1FXfClxbiC"
      }
    },
    {
      "cell_type": "code",
      "source": [
        "tup=(4,5,6,7)\n",
        "tup.index(4)#counts first occurence of 4(at which position it has occured first)"
      ],
      "metadata": {
        "colab": {
          "base_uri": "https://localhost:8080/"
        },
        "id": "FO9VgamYxdtm",
        "outputId": "1b85c186-3379-4bd6-ad43-bc525b19ff0b"
      },
      "execution_count": 6,
      "outputs": [
        {
          "output_type": "execute_result",
          "data": {
            "text/plain": [
              "0"
            ]
          },
          "metadata": {},
          "execution_count": 6
        }
      ]
    },
    {
      "cell_type": "code",
      "source": [
        "tup=(1,2,6,3,4,2,1,2)\n",
        "tup.count(2)#counts the number of occurences of 2\n"
      ],
      "metadata": {
        "colab": {
          "base_uri": "https://localhost:8080/"
        },
        "id": "ldwFOYudyDVG",
        "outputId": "de2fb4e0-f4a7-4420-9291-e26a4140b343"
      },
      "execution_count": 7,
      "outputs": [
        {
          "output_type": "execute_result",
          "data": {
            "text/plain": [
              "3"
            ]
          },
          "metadata": {},
          "execution_count": 7
        }
      ]
    },
    {
      "cell_type": "markdown",
      "source": [
        "QUESTION- WAP to ask the user to enter names of their 3 favourite movies and store them in a list ."
      ],
      "metadata": {
        "id": "kH-1UA4Yyv9q"
      }
    },
    {
      "cell_type": "code",
      "source": [
        "movies=[]\n",
        "movie1=str(input(\"enter name of first movie:\"))\n",
        "movies.append(movie1)\n",
        "movie2=str(input(\"enter name of second movie:\"))\n",
        "movies.append(movie2)\n",
        "movie3=str(input(\"enter name of third movie:\"))\n",
        "movies.append(movie3)\n",
        "print(movies)"
      ],
      "metadata": {
        "colab": {
          "base_uri": "https://localhost:8080/"
        },
        "id": "458_ZVsWy78u",
        "outputId": "bc30ab8d-5103-4f24-8e00-bce595a49d79"
      },
      "execution_count": 9,
      "outputs": [
        {
          "output_type": "stream",
          "name": "stdout",
          "text": [
            "enter name of first movie:hi\n",
            "enter name of second movie:hello\n",
            "enter name of third movie:how r u\n",
            "['hi', 'hello', 'how r u']\n"
          ]
        }
      ]
    },
    {
      "cell_type": "markdown",
      "source": [
        "QUESTION:-wap TO CHECK IF A LIST CONTAINS A PALINDROME OF ELEMENTS."
      ],
      "metadata": {
        "id": "5GN4CwlhzXpU"
      }
    },
    {
      "cell_type": "code",
      "source": [
        "list1=[1,2,3,2,1]\n",
        "copy_list1=list1.copy()\n",
        "copy_list1.reverse()\n",
        "if(list1==copy_list1):\n",
        "  print(\"palindrome\")\n",
        "else:\n",
        "  print(\"not palindrome\")"
      ],
      "metadata": {
        "colab": {
          "base_uri": "https://localhost:8080/"
        },
        "id": "iqwklsVLz85I",
        "outputId": "6e65cd2b-306a-455e-c0e9-0ca9f8e27b38"
      },
      "execution_count": 11,
      "outputs": [
        {
          "output_type": "stream",
          "name": "stdout",
          "text": [
            "palindrome\n"
          ]
        }
      ]
    }
  ]
}