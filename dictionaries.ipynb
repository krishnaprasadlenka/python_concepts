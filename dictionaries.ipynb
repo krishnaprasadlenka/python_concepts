{
  "nbformat": 4,
  "nbformat_minor": 0,
  "metadata": {
    "colab": {
      "provenance": [],
      "authorship_tag": "ABX9TyN2nQ5abkI2+fPrzbzKkCrh",
      "include_colab_link": true
    },
    "kernelspec": {
      "name": "python3",
      "display_name": "Python 3"
    },
    "language_info": {
      "name": "python"
    }
  },
  "cells": [
    {
      "cell_type": "markdown",
      "metadata": {
        "id": "view-in-github",
        "colab_type": "text"
      },
      "source": [
        "<a href=\"https://colab.research.google.com/github/krishnaprasadlenka/python_concepts/blob/main/dictionaries.ipynb\" target=\"_parent\"><img src=\"https://colab.research.google.com/assets/colab-badge.svg\" alt=\"Open In Colab\"/></a>"
      ]
    },
    {
      "cell_type": "markdown",
      "source": [
        "**DICTIONARIES**:-Dictionaries are used to store data values in key:value pairs\n",
        "\n",
        "\n",
        "1.  they are unordered\n",
        "2.  they are mutable(changeable)\n",
        "\n"
      ],
      "metadata": {
        "id": "tH4DRyhG2qe2"
      }
    },
    {
      "cell_type": "code",
      "source": [
        "#here we use {} braces\n",
        "#creating dictionary\n",
        "data={\n",
        "    \"key\":\"value\",\n",
        "    \"name\":\"krishna\",\n",
        "    \"age\":21,\n",
        "    \"branch\":\"cse\"\n",
        "}\n",
        "print(data)\n",
        "#in values we can accept any kind of data type\n",
        "print(data[\"name\"])\n",
        "#creating one empty dictionary\n",
        "null_dict={}\n",
        "print(null_dict)"
      ],
      "metadata": {
        "colab": {
          "base_uri": "https://localhost:8080/"
        },
        "id": "uMfpRjnA3G5h",
        "outputId": "85bdb80a-a8f2-4bde-de7c-228f6976e69e"
      },
      "execution_count": 5,
      "outputs": [
        {
          "output_type": "stream",
          "name": "stdout",
          "text": [
            "{'key': 'value', 'name': 'krishna', 'age': 21, 'branch': 'cse'}\n",
            "krishna\n",
            "{}\n"
          ]
        }
      ]
    },
    {
      "cell_type": "markdown",
      "source": [
        "nested dictioanries"
      ],
      "metadata": {
        "id": "hZ1N2XnN-CDt"
      }
    },
    {
      "cell_type": "code",
      "source": [
        "student={\n",
        "    \"name\":\"krishna\",\n",
        "    \"subjects\":{\n",
        "        \"maths\":20,\n",
        "        \"english\":65,\n",
        "        \"hindi\":85,\n",
        "        \"science\":69\n",
        "    },\n",
        "    \"roll_number\":\"22n31a6794\"\n",
        "}\n",
        "print(student)\n",
        "print(student[\"subjects\"][\"english\"])\n",
        "#to print the keys\n",
        "print(student.keys())\n",
        "#to print the values\n",
        "print(student.values())\n",
        "#typecasting\n",
        "print(list(student.keys()))\n",
        "#total number of keys\n",
        "print(len(student))\n",
        "\n"
      ],
      "metadata": {
        "colab": {
          "base_uri": "https://localhost:8080/"
        },
        "id": "dXj_TB5T-FLo",
        "outputId": "2a32ca9c-d0ce-4cd8-c794-8fed13de7eb4"
      },
      "execution_count": 13,
      "outputs": [
        {
          "output_type": "stream",
          "name": "stdout",
          "text": [
            "{'name': 'krishna', 'subjects': {'maths': 20, 'english': 65, 'hindi': 85, 'science': 69}, 'roll_number': '22n31a6794'}\n",
            "65\n",
            "dict_keys(['name', 'subjects', 'roll_number'])\n",
            "dict_values(['krishna', {'maths': 20, 'english': 65, 'hindi': 85, 'science': 69}, '22n31a6794'])\n",
            "['name', 'subjects', 'roll_number']\n",
            "3\n"
          ]
        }
      ]
    }
  ]
}