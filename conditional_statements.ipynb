{
  "nbformat": 4,
  "nbformat_minor": 0,
  "metadata": {
    "colab": {
      "provenance": [],
      "authorship_tag": "ABX9TyN68xSn77keYs5Oz+qJb8yk",
      "include_colab_link": true
    },
    "kernelspec": {
      "name": "python3",
      "display_name": "Python 3"
    },
    "language_info": {
      "name": "python"
    }
  },
  "cells": [
    {
      "cell_type": "markdown",
      "metadata": {
        "id": "view-in-github",
        "colab_type": "text"
      },
      "source": [
        "<a href=\"https://colab.research.google.com/github/krishnaprasadlenka/python_concepts/blob/main/conditional_statements.ipynb\" target=\"_parent\"><img src=\"https://colab.research.google.com/assets/colab-badge.svg\" alt=\"Open In Colab\"/></a>"
      ]
    },
    {
      "cell_type": "code",
      "source": [],
      "metadata": {
        "id": "Ni_MN8NkG6q1"
      },
      "execution_count": null,
      "outputs": []
    },
    {
      "cell_type": "markdown",
      "source": [
        "if statement\n"
      ],
      "metadata": {
        "id": "rDic34pZGcl-"
      }
    },
    {
      "cell_type": "code",
      "source": [
        "n=int(input(\"enter any number\"))\n",
        "if n>10:\n",
        "  print(n,\"is greater than 10\")"
      ],
      "metadata": {
        "colab": {
          "base_uri": "https://localhost:8080/"
        },
        "id": "FaNCopFtHAJt",
        "outputId": "0243a825-5311-4506-a12d-7ad4f0d4b839"
      },
      "execution_count": 3,
      "outputs": [
        {
          "output_type": "stream",
          "name": "stdout",
          "text": [
            "enter any number25\n",
            "25 is greater than 10\n"
          ]
        }
      ]
    },
    {
      "cell_type": "markdown",
      "source": [
        "if-else statement"
      ],
      "metadata": {
        "id": "RVR0MScBHcXL"
      }
    },
    {
      "cell_type": "code",
      "source": [
        "n=int(input(\"enter any number\"))\n",
        "if n>10:\n",
        "  print(n,\"is greater than 10\")\n",
        "else:\n",
        "  print(n,\"is less than 10\")"
      ],
      "metadata": {
        "colab": {
          "base_uri": "https://localhost:8080/"
        },
        "id": "muWeCXvkHe37",
        "outputId": "6761b500-65ea-4958-c9dd-514f5b4c2890"
      },
      "execution_count": 4,
      "outputs": [
        {
          "output_type": "stream",
          "name": "stdout",
          "text": [
            "enter any number5\n",
            "5 is less than 10\n"
          ]
        }
      ]
    },
    {
      "cell_type": "markdown",
      "source": [
        "if -else-if statement"
      ],
      "metadata": {
        "id": "xSmjjr4SHp7D"
      }
    },
    {
      "cell_type": "code",
      "source": [
        "n=int(input(\"enter any number\"))\n",
        "if n>10:\n",
        "  print(n,\"is greater than 10\")\n",
        "elif n<10:\n",
        "  print(n,\"is less than 10\")\n",
        "else :\n",
        "  print(n,\"is equal to 10\")"
      ],
      "metadata": {
        "colab": {
          "base_uri": "https://localhost:8080/"
        },
        "id": "c05MQGZ4IOu4",
        "outputId": "b0439f4e-4a70-4ffa-ddb4-41361cf5ca04"
      },
      "execution_count": 6,
      "outputs": [
        {
          "output_type": "stream",
          "name": "stdout",
          "text": [
            "enter any number6\n",
            "6 is less than 10\n"
          ]
        }
      ]
    },
    {
      "cell_type": "markdown",
      "source": [
        "nested-if-else"
      ],
      "metadata": {
        "id": "cZhzUYxpIiHE"
      }
    },
    {
      "cell_type": "markdown",
      "source": [],
      "metadata": {
        "id": "Ze_HY9CGIJr8"
      }
    }
  ]
}